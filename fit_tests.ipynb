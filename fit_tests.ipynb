{
 "metadata": {
  "language_info": {
   "codemirror_mode": {
    "name": "ipython",
    "version": 3
   },
   "file_extension": ".py",
   "mimetype": "text/x-python",
   "name": "python",
   "nbconvert_exporter": "python",
   "pygments_lexer": "ipython3",
   "version": "3.9.5"
  },
  "orig_nbformat": 4,
  "kernelspec": {
   "name": "python3",
   "display_name": "Python 3.9.5 64-bit ('codeastro': conda)"
  },
  "interpreter": {
   "hash": "e28080ffa612ef18e64c9f6b67fc6002acae8c100d84074ad25e8cac3b9288fd"
  }
 },
 "nbformat": 4,
 "nbformat_minor": 2,
 "cells": [
  {
   "cell_type": "code",
   "execution_count": null,
   "metadata": {},
   "outputs": [],
   "source": [
    "# Packages used\n",
    "\n",
    "import numpy as np \n",
    "from lmfit import Model\n",
    "import inspect\n",
    "import matplotlib.pyplot as plt \n"
   ]
  },
  {
   "cell_type": "code",
   "execution_count": null,
   "metadata": {},
   "outputs": [],
   "source": [
    "# Data generator\n",
    "\n",
    "import random\n",
    "\n",
    "x = np.linspace(0, 1, 1000)\n",
    "\n",
    "a0 = 4.02\n",
    "a1 = 31.42\n",
    "a2 = 11\n",
    "a3 = 10\n",
    "a4 = 11\n",
    "\n",
    "\n",
    "y = [a0 + a1*i + a2 * np.sin(a3*i+a4) for i in x]\n",
    "y = [i+ np.random.normal(0,10)**1.2 for i in y]\n",
    "\n",
    "plt.plot(x,y, '.',)"
   ]
  },
  {
   "cell_type": "code",
   "execution_count": null,
   "metadata": {},
   "outputs": [],
   "source": [
    "# Function used and initial values for the fit\n",
    "\n",
    "i_val = [10, 10, 10, 10, 5, 10]    # Initial parameters in order\n",
    "\n",
    "def generic_fun(x, a0, a1, a2, a3, a4):\n",
    "    return a0 + a1 * x + a2 * np.sin( a3 * x + a4)\n"
   ]
  },
  {
   "cell_type": "code",
   "execution_count": null,
   "metadata": {},
   "outputs": [],
   "source": [
    "# This part of the code should be the same for everything\n",
    "\n",
    "nsig = 2 # Sigma used for the sigma clipping\n",
    "\n",
    "# Creates model\n",
    "gmodel = Model(generic_fun)\n",
    "# Get initial coefficients for the fit\n",
    "i_params = gmodel.make_params()\n",
    "args = inspect.getargspec(generic_fun).args\n",
    "args.remove('x')\n",
    "\n",
    "iv_dict = {}\n",
    "for i in range(0,len(args)):\n",
    "    iv_dict[args[i]] = i_val[i]\n",
    "\n",
    "for p in i_params:\n",
    "    i_params[p].value = iv_dict[p]\n",
    "\n",
    "\n",
    "\n",
    "plt.plot(x, y, '.', label='data', markersize=5)\n",
    "\n",
    "# Model fit\n",
    "\n",
    "len_valid = 0    # 0 to force the first iteration\n",
    "len_y = len(y)\n",
    "while len_valid < len_y:\n",
    "    result = gmodel.fit(y, i_params, x=x)\n",
    "    params = gmodel.make_params()\n",
    "    for p in params:\n",
    "        params[p].value = result.params[p].value\n",
    "\n",
    "    delt = y - gmodel.eval(params, x=x)\n",
    "    threshold = nsig * np.std(delt) \n",
    "\n",
    "    valid = abs(delt) < threshold\n",
    "    \n",
    "    len_y = len(y)\n",
    "    len_valid = len(valid[valid==True])\n",
    "\n",
    "    # New x and y used\n",
    "    x = np.array(x)[valid]\n",
    "    y = np.array(y)[valid]\n",
    "\n",
    "\n",
    "\n",
    "\n",
    "x_fit = np.linspace(min(x), max(x), num=100)\n",
    "y_fit = gmodel.eval(params, x=x_fit)\n",
    "\n",
    "\n",
    "\n",
    "\n",
    "\n",
    "plt.plot(x, y, '.', label='data')\n",
    "plt.plot(x_fit, y_fit)\n",
    "plt.legend()\n",
    "plt.show()\n",
    "\n",
    "print(result.fit_report())"
   ]
  }
 ]
}